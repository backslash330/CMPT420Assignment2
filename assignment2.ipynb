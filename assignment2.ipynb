{
 "cells": [
  {
   "cell_type": "code",
   "execution_count": null,
   "metadata": {},
   "outputs": [],
   "source": [
    "# CMPT/MATH 420 - Assignment 2 fall 2022, Dr. Ben Cameron\n",
    "# Name:\n",
    "# Student Number:"
   ]
  },
  {
   "cell_type": "code",
   "execution_count": null,
   "metadata": {},
   "outputs": [],
   "source": [
    "# define your LagrangePoly function here\n",
    "\n",
    "def LagrangeInterpolation(points):\n",
    "    #function body goes here\n",
    "    result = 0\n",
    "    for i in range (len(points)):\n",
    "        if i < 0:\n",
    "            raise ValueError(\"i must be a non-negative integer\")\n",
    "        # ensure points is a list of 2-element lists\n",
    "        if not isinstance(points, list):\n",
    "            raise ValueError(\"points must be a list\")\n",
    "        # go through the largrange formula\n",
    "        for j in range(len(points)):\n",
    "            if j != i:\n",
    "                numerator = 1\n",
    "                denominator = 1\n",
    "                subResult = 0\n",
    "                numerator *= (x - points[j][0])\n",
    "                denominator *= (points[i][0] - points[j][0])\n",
    "        # store the subresult\n",
    "        subResult = numerator / denominator\n",
    "        subResult *= points[i][1]\n",
    "        result += subResult\n",
    "    result = result.expand()\n",
    "    return result"
   ]
  },
  {
   "cell_type": "code",
   "execution_count": 15,
   "metadata": {},
   "outputs": [
    {
     "name": "stdout",
     "output_type": "stream",
     "text": [
      "Test 1: Example 1, worksheet 3.1.1-2\n",
      "1/2*x + 3/2\n",
      "******************************************\n",
      "Test 2: Example 2 (the second one), worksheet 3.2, but not quite what we got.\n",
      "-4.47619047619048*x + 32.3809523809524\n",
      "******************************************\n",
      "Test 3: Example 2 (the second one), worksheet 3.2 with decimals in rational form. What a difference!\n",
      "-94/21*x + 680/21\n",
      "******************************************\n",
      "Test 4: Example 3, worksheet 3.2\n",
      "-19/168*x + 122/21\n",
      "******************************************\n"
     ]
    }
   ],
   "source": [
    "def LagrangeInterpolation(points):\n",
    "    #function body goes here\n",
    "    result = 0\n",
    "    for i in range (len(points)):\n",
    "        if i < 0:\n",
    "            raise ValueError(\"i must be a non-negative integer\")\n",
    "        # ensure points is a list of 2-element lists\n",
    "        if not isinstance(points, list):\n",
    "            raise ValueError(\"points must be a list\")\n",
    "        # go through the largrange formula\n",
    "        for j in range(len(points)):\n",
    "            if j != i:\n",
    "                numerator = 1\n",
    "                denominator = 1\n",
    "                subResult = 0\n",
    "                numerator *= (x - points[j][0])\n",
    "                denominator *= (points[i][0] - points[j][0])\n",
    "        # store the subresult\n",
    "        subResult = numerator / denominator\n",
    "        subResult *= points[i][1]\n",
    "        result += subResult\n",
    "    result = result.expand()\n",
    "    return result\n",
    "\n",
    "# tests for  LagrangePoly\n",
    "print(\"Test 1: Example 1, worksheet 3.1.1-2\")\n",
    "print(LagrangeInterpolation([[1,2],[5,4]]))\n",
    "print(\"******************************************\")\n",
    "print(\"Test 2: Example 2 (the second one), worksheet 3.2, but not quite what we got.\")\n",
    "print(LagrangeInterpolation([[0,0],[2,4],[3.6,7.2],[4,8],[5,10]]))\n",
    "print(\"******************************************\")\n",
    "print(\"Test 3: Example 2 (the second one), worksheet 3.2 with decimals in rational form. What a difference!\")\n",
    "print(LagrangeInterpolation([[0,0],[2,4],[36/10,72/10],[4,8],[5,10]]))\n",
    "print(\"******************************************\")\n",
    "print(\"Test 4: Example 3, worksheet 3.2\")\n",
    "print(LagrangeInterpolation([[2,1],[4,2],[8,3],[16,4]]))\n",
    "print(\"******************************************\")"
   ]
  },
  {
   "cell_type": "code",
   "execution_count": null,
   "metadata": {},
   "outputs": [],
   "source": [
    "#code for function interpolated at n evenly spaced values in this cell:\n"
   ]
  },
  {
   "cell_type": "code",
   "execution_count": null,
   "metadata": {},
   "outputs": [],
   "source": [
    "#code for function interpolated at n Chebyshev nodes in this cell:\n"
   ]
  },
  {
   "cell_type": "code",
   "execution_count": null,
   "metadata": {},
   "outputs": [],
   "source": []
  }
 ],
 "metadata": {
  "kernelspec": {
   "display_name": "SageMath 9.5",
   "language": "sage",
   "name": "sagemath"
  },
  "language_info": {
   "codemirror_mode": {
    "name": "ipython",
    "version": 3
   },
   "file_extension": ".py",
   "mimetype": "text/x-python",
   "name": "python",
   "nbconvert_exporter": "python",
   "pygments_lexer": "ipython3",
   "version": "3.9.9"
  },
  "orig_nbformat": 4
 },
 "nbformat": 4,
 "nbformat_minor": 2
}
